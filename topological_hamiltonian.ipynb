{
 "cells": [
  {
   "cell_type": "code",
   "execution_count": null,
   "metadata": {},
   "outputs": [],
   "source": [
    "import numpy as np\n",
    "from experiments.topo_hamiltonian import get_topo_potential,integrate_topo,plot_topo_trajectory"
   ]
  },
  {
   "cell_type": "code",
   "execution_count": null,
   "metadata": {},
   "outputs": [],
   "source": [
    "N = 50_000\n",
    "y0 = np.array([-0.1,0.2,0.,0.])\n",
    "dt = 0.02\n",
    "\n",
    "\n",
    "lat,long = 61.22186498817666, 10.524947049598786\n",
    "H_topo,n = get_topo_potential(lat,long,plot = False)\n",
    "ys = integrate_topo(H_topo,y0,dt,N,method = \"sia_df\")\n",
    "plot_topo_trajectory(ys,H_topo,n,dt,N,save=False)"
   ]
  }
 ],
 "metadata": {
  "kernelspec": {
   "display_name": "torch",
   "language": "python",
   "name": "python3"
  },
  "language_info": {
   "codemirror_mode": {
    "name": "ipython",
    "version": 3
   },
   "file_extension": ".py",
   "mimetype": "text/x-python",
   "name": "python",
   "nbconvert_exporter": "python",
   "pygments_lexer": "ipython3",
   "version": "3.8.15"
  },
  "orig_nbformat": 4
 },
 "nbformat": 4,
 "nbformat_minor": 2
}
