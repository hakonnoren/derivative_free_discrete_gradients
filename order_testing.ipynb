{
 "cells": [
  {
   "cell_type": "code",
   "execution_count": null,
   "metadata": {},
   "outputs": [],
   "source": [
    "from get_integrators import get_integrator_dict\n",
    "import numpy as np\n",
    "from experiments.order import run_experiment,plot_results\n",
    "\n",
    "from experiments.order import Df_dp as Df\n",
    "from experiments.order import H_dp as H\n",
    "from experiments.order import f_dp as f\n"
   ]
  },
  {
   "cell_type": "code",
   "execution_count": null,
   "metadata": {},
   "outputs": [],
   "source": [
    "\n",
    "tol = 1e-11\n",
    "plot = False\n",
    "tau = 1e-5\n",
    "\n",
    "x0 = np.array([0.1,0.3,0.25,-0.3])\n",
    "integrator_dict = get_integrator_dict(H,f,Df,tol,tau)\n",
    "\n",
    "T = 10\n",
    "Ns = T*(2**np.arange(2,7))\n",
    "metrics = run_experiment(integrator_dict,H,Ns,x0,T=T)"
   ]
  },
  {
   "cell_type": "code",
   "execution_count": null,
   "metadata": {},
   "outputs": [],
   "source": [
    "plot_results(metrics,integrator_dict,f,x0,T,Ns,save=False)"
   ]
  }
 ],
 "metadata": {
  "kernelspec": {
   "display_name": "torch",
   "language": "python",
   "name": "python3"
  },
  "language_info": {
   "codemirror_mode": {
    "name": "ipython",
    "version": 3
   },
   "file_extension": ".py",
   "mimetype": "text/x-python",
   "name": "python",
   "nbconvert_exporter": "python",
   "pygments_lexer": "ipython3",
   "version": "3.8.15"
  },
  "orig_nbformat": 4
 },
 "nbformat": 4,
 "nbformat_minor": 2
}
