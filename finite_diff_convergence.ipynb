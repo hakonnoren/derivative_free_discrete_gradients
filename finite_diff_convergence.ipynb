{
 "cells": [
  {
   "cell_type": "code",
   "execution_count": null,
   "metadata": {},
   "outputs": [],
   "source": [
    "from experiments.finite_diff_convergence import compute_finite_diff_errors,plot_finite_diff_errors\n",
    "from experiments.order import H_dp as H\n",
    "from experiments.order import f_dp as f\n",
    "import numpy as np\n",
    "\n",
    "T = 2\n",
    "Ns = 2**np.arange(1,10,1)\n",
    "x0 = np.array([0.1,0.2,0.25,-0.3])\n",
    "\n",
    "metrics = compute_finite_diff_errors(x0,Ns,T,f,H)\n",
    "plot_finite_diff_errors(metrics,T,Ns,save=False)"
   ]
  }
 ],
 "metadata": {
  "kernelspec": {
   "display_name": "torch",
   "language": "python",
   "name": "python3"
  },
  "language_info": {
   "codemirror_mode": {
    "name": "ipython",
    "version": 3
   },
   "file_extension": ".py",
   "mimetype": "text/x-python",
   "name": "python",
   "nbconvert_exporter": "python",
   "pygments_lexer": "ipython3",
   "version": "3.8.15"
  },
  "orig_nbformat": 4
 },
 "nbformat": 4,
 "nbformat_minor": 2
}
